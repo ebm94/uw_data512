{
 "cells": [
  {
   "cell_type": "markdown",
   "metadata": {},
   "source": [
    "# Time series of Wikipedia Page Views"
   ]
  },
  {
   "cell_type": "code",
   "execution_count": 1,
   "metadata": {},
   "outputs": [],
   "source": [
    "import json\n",
    "import requests\n",
    "import numpy as np\n",
    "import pandas as pd\n",
    "import matplotlib.pyplot as plt"
   ]
  },
  {
   "cell_type": "markdown",
   "metadata": {},
   "source": [
    "The statements below control data pull parameters mentioned inside {} viz. project, granularity, start date end date, etc."
   ]
  },
  {
   "cell_type": "code",
   "execution_count": 2,
   "metadata": {},
   "outputs": [],
   "source": [
    "endpoint_legacy = 'https://wikimedia.org/api/rest_v1/metrics/legacy/pagecounts/aggregate/{project}/{access-site}/{granularity}/{start}/{end}'\n",
    "\n",
    "endpoint_pageviews = 'https://wikimedia.org/api/rest_v1/metrics/pageviews/aggregate/{project}/{access}/{agent}/{granularity}/{start}/{end}'"
   ]
  },
  {
   "cell_type": "markdown",
   "metadata": {},
   "source": [
    "The following dictionaries are used to pass above mentioned parameters to the API call."
   ]
  },
  {
   "cell_type": "code",
   "execution_count": 3,
   "metadata": {},
   "outputs": [],
   "source": [
    "params_legacy_desktop_site = {\"project\" : \"en.wikipedia.org\",\n",
    "                 \"access-site\" : \"desktop-site\",\n",
    "                 \"granularity\" : \"monthly\",\n",
    "                 \"start\" : \"2007120100\",\n",
    "                # for end use 1st day of month following final month of data\n",
    "                 \"end\" : \"2016080100\"\n",
    "                    }\n",
    "\n",
    "params_legacy_mobile_site = {\"project\" : \"en.wikipedia.org\",\n",
    "                 \"access-site\" : \"mobile-site\",\n",
    "                 \"granularity\" : \"monthly\",\n",
    "                 \"start\" : \"2007120100\",\n",
    "                # for end use 1st day of month following final month of data\n",
    "                 \"end\" : \"2016080100\"\n",
    "                    }\n",
    "\n",
    "params_pageviews_desktop = {\"project\" : \"en.wikipedia.org\",\n",
    "                    \"access\" : \"desktop\",\n",
    "                    \"agent\" : \"user\",\n",
    "                    \"granularity\" : \"monthly\",\n",
    "                    \"start\" : \"2015070100\",\n",
    "                    # for end use 1st day of month following final month of data\n",
    "                    \"end\" : '2019110100'\n",
    "                        }\n",
    "\n",
    "params_pageviews_mobile_web = {\"project\" : \"en.wikipedia.org\",\n",
    "                    \"access\" : \"mobile-web\",\n",
    "                    \"agent\" : \"user\",\n",
    "                    \"granularity\" : \"monthly\",\n",
    "                    \"start\" : \"2015070100\",\n",
    "                    # for end use 1st day of month following final month of data\n",
    "                    \"end\" : '2019110100'\n",
    "                        }\n",
    "\n",
    "params_pageviews_mobile_app = {\"project\" : \"en.wikipedia.org\",\n",
    "                    \"access\" : \"mobile-app\",\n",
    "                    \"agent\" : \"user\",\n",
    "                    \"granularity\" : \"monthly\",\n",
    "                    \"start\" : \"2015070100\",\n",
    "                    # for end use 1st day of month following final month of data\n",
    "                    \"end\" : '2019110100'\n",
    "                        }\n",
    "\n",
    "headers = {\n",
    "    'User-Agent': 'https://github.com/ebm94',\n",
    "    'From': 'edwin100@uw.edu'\n",
    "}"
   ]
  },
  {
   "cell_type": "markdown",
   "metadata": {},
   "source": [
    "Defining the API call function and pulling the 5 page view JSON datasets by calling the function 5 times."
   ]
  },
  {
   "cell_type": "code",
   "execution_count": 4,
   "metadata": {},
   "outputs": [],
   "source": [
    "def api_call(endpoint,parameters):\n",
    "    call = requests.get(endpoint.format(**parameters), headers=headers)\n",
    "    response = call.json()\n",
    "    return response\n",
    "\n",
    "pagecounts_desktop_site_200712_201608 = api_call(endpoint_legacy, params_legacy_desktop_site)\n",
    "pagecounts_mobile_site_200712_201608 = api_call(endpoint_legacy, params_legacy_mobile_site)\n",
    "pageviews_desktop_201507_201911 = api_call(endpoint_pageviews, params_pageviews_desktop)\n",
    "pageviews_mobile_web_201507_201911 = api_call(endpoint_pageviews, params_pageviews_mobile_web)\n",
    "pageviews_mobile_app_201507_201911 = api_call(endpoint_pageviews, params_pageviews_mobile_app)"
   ]
  },
  {
   "cell_type": "markdown",
   "metadata": {},
   "source": [
    "Storing the 5 pulled JSON files locally in .json format."
   ]
  },
  {
   "cell_type": "code",
   "execution_count": 5,
   "metadata": {},
   "outputs": [],
   "source": [
    "with open('pagecounts_desktop-site_200712-201608.json', 'w') as json_file1:\n",
    "    json.dump(pagecounts_desktop_site_200712_201608['items'], json_file1)\n",
    "    \n",
    "with open('pagecounts_mobile-site_200712-201608.json', 'w') as json_file1:\n",
    "    json.dump(pagecounts_mobile_site_200712_201608['items'], json_file1)\n",
    "    \n",
    "with open('pageviews_desktop_201507-201911.json', 'w') as json_file1:\n",
    "    json.dump(pageviews_desktop_201507_201911['items'], json_file1)\n",
    "    \n",
    "with open('pageviews_mobile-web_201507-201911.json', 'w') as json_file1:\n",
    "    json.dump(pageviews_mobile_web_201507_201911['items'], json_file1)\n",
    "    \n",
    "with open('pageviews_mobile-app_201507-201911.json', 'w') as json_file1:\n",
    "    json.dump(pageviews_mobile_app_201507_201911['items'], json_file1)"
   ]
  },
  {
   "cell_type": "markdown",
   "metadata": {},
   "source": [
    "Defining a function to read the JSON file from local, rename necessary columns, create and drop columns."
   ]
  },
  {
   "cell_type": "code",
   "execution_count": 6,
   "metadata": {},
   "outputs": [],
   "source": [
    "def json_to_csv(jfile, col_name):\n",
    "    df = pd.read_json(jfile, convert_dates=False)\n",
    "    df = df.rename(columns={'count':col_name, 'views':col_name})\n",
    "    df['year'] = df['timestamp'].astype(str).str[:4]\n",
    "    df['month'] = df['timestamp'].astype(str).str[4:6]\n",
    "    try:\n",
    "        df.drop(['access-site', 'granularity', 'project', 'timestamp'], axis=1, inplace=True)\n",
    "    except:\n",
    "        df.drop(['access', 'agent', 'granularity', 'project', 'timestamp'], axis=1, inplace=True)\n",
    "    return df"
   ]
  },
  {
   "cell_type": "markdown",
   "metadata": {},
   "source": [
    "Calling the function 5 times to get 5 JSON files as dataframes."
   ]
  },
  {
   "cell_type": "code",
   "execution_count": 7,
   "metadata": {},
   "outputs": [],
   "source": [
    "pc1 = json_to_csv('pagecounts_desktop-site_200712-201608.json', 'pagecount_desktop_views')\n",
    "pc2 = json_to_csv('pagecounts_mobile-site_200712-201608.json', 'pagecount_mobile_views')\n",
    "pc3 = json_to_csv('pageviews_desktop_201507-201911.json', 'pageview_desktop_views')\n",
    "pc4 = json_to_csv('pageviews_mobile-web_201507-201911.json', 'pageview_mobile_web_views')\n",
    "pc5 = json_to_csv('pageviews_mobile-app_201507-201911.json', 'pageview_mobile_app_views')"
   ]
  },
  {
   "cell_type": "markdown",
   "metadata": {},
   "source": [
    "Below, we merge the 5 dataframes at (MM, YYYY) joining key and replacing the missing values with 0. Then, we create new columns pagecount_all_views for pagecount data and pageview_mobile_views, pageview_all_views columns for pageviews data. Then, we drop columns for mobile web and mobile app views in pageviews data."
   ]
  },
  {
   "cell_type": "code",
   "execution_count": 8,
   "metadata": {},
   "outputs": [],
   "source": [
    "pc1 = pc1.merge(pc2, on=['year', 'month'], how='outer')\n",
    "pc1 = pc1.merge(pc3, on=['year', 'month'], how='outer')\n",
    "pc1 = pc1.merge(pc4, on=['year', 'month'], how='outer')\n",
    "pc1 = pc1.merge(pc5, on=['year', 'month'], how='outer')\n",
    "pc1 = pc1.fillna(0)\n",
    "pc1['pagecount_all_views'] = pc1['pagecount_desktop_views'] + pc1['pagecount_mobile_views']\n",
    "pc1['pageview_mobile_views'] = pc1['pageview_mobile_web_views'] + pc1['pageview_mobile_app_views']\n",
    "pc1['pageview_all_views'] = pc1['pageview_desktop_views'] + pc1['pageview_mobile_views']\n",
    "pc1.drop(['pageview_mobile_web_views', 'pageview_mobile_app_views'], axis=1, inplace=True)"
   ]
  },
  {
   "cell_type": "markdown",
   "metadata": {},
   "source": [
    "Storing the aggregated data as CSV file locally."
   ]
  },
  {
   "cell_type": "code",
   "execution_count": 9,
   "metadata": {},
   "outputs": [],
   "source": [
    "pc1.to_csv('en-wikipedia_traffic_200712-201909.csv', index=False)\n",
    "pc1 = pc1.set_index('year')"
   ]
  },
  {
   "cell_type": "markdown",
   "metadata": {},
   "source": [
    "Replacing the 0 values with NA before plotting the time series."
   ]
  },
  {
   "cell_type": "code",
   "execution_count": 10,
   "metadata": {},
   "outputs": [],
   "source": [
    "pc1.replace(0, np.nan, inplace=True)"
   ]
  },
  {
   "cell_type": "markdown",
   "metadata": {},
   "source": [
    "Making the appropriate time series plot. The pagecount values are showed in dashed lines and pageview values in solid lines."
   ]
  },
  {
   "cell_type": "code",
   "execution_count": 11,
   "metadata": {
    "scrolled": true
   },
   "outputs": [
    {
     "data": {
      "image/png": "[encoded data removed]",
      "text/plain": [
       "<Figure size 720x360 with 1 Axes>"
      ]
     },
     "metadata": {
      "needs_background": "light"
     },
     "output_type": "display_data"
    }
   ],
   "source": [
    "plt.figure(figsize=(10, 5))\n",
    "ax=pc1['pagecount_desktop_views'].plot(color='green', linestyle='dashed', label='total')\n",
    "ax=pc1['pagecount_mobile_views'].plot(color='blue', linestyle='dashed', label='mobile site')\n",
    "ax=pc1['pagecount_all_views'].plot(color='black', linestyle='dashed', label='main site')\n",
    "ax=pc1['pageview_desktop_views'].plot(color='green', label='_nolegend_')\n",
    "ax=pc1['pageview_mobile_views'].plot(color='blue', label='_nolegend_')\n",
    "ax=pc1['pageview_all_views'].plot(color='black', label='_nolegend_')\n",
    "ax.set_ylabel('Views')\n",
    "plt.legend(loc='upper left')\n",
    "plt.title('Wikipedia Views by access-site and time')\n",
    "from matplotlib.ticker import ScalarFormatter, FormatStrFormatter\n",
    "ax.yaxis.set_major_formatter(FormatStrFormatter('%.0f'))\n",
    "plt.savefig('wikitseries.png')"
   ]
  },
  {
   "cell_type": "markdown",
   "metadata": {},
   "source": [
    "Observing summary statistics of the created fields"
   ]
  },
  {
   "cell_type": "code",
   "execution_count": 12,
   "metadata": {},
   "outputs": [
    {
     "data": {
      "text/html": [
       "<div>\n",
       "<style scoped>\n",
       "    .dataframe tbody tr th:only-of-type {\n",
       "        vertical-align: middle;\n",
       "    }\n",
       "\n",
       "    .dataframe tbody tr th {\n",
       "        vertical-align: top;\n",
       "    }\n",
       "\n",
       "    .dataframe thead th {\n",
       "        text-align: right;\n",
       "    }\n",
       "</style>\n",
       "<table border=\"1\" class=\"dataframe\">\n",
       "  <thead>\n",
       "    <tr style=\"text-align: right;\">\n",
       "      <th></th>\n",
       "      <th>pagecount_desktop_views</th>\n",
       "      <th>pagecount_mobile_views</th>\n",
       "      <th>pageview_desktop_views</th>\n",
       "      <th>pagecount_all_views</th>\n",
       "      <th>pageview_mobile_views</th>\n",
       "      <th>pageview_all_views</th>\n",
       "    </tr>\n",
       "  </thead>\n",
       "  <tbody>\n",
       "    <tr>\n",
       "      <th>count</th>\n",
       "      <td>1.040000e+02</td>\n",
       "      <td>2.200000e+01</td>\n",
       "      <td>5.100000e+01</td>\n",
       "      <td>1.040000e+02</td>\n",
       "      <td>5.100000e+01</td>\n",
       "      <td>5.100000e+01</td>\n",
       "    </tr>\n",
       "    <tr>\n",
       "      <th>mean</th>\n",
       "      <td>6.573914e+09</td>\n",
       "      <td>3.296950e+09</td>\n",
       "      <td>3.851217e+09</td>\n",
       "      <td>7.271346e+09</td>\n",
       "      <td>3.813428e+09</td>\n",
       "      <td>7.664646e+09</td>\n",
       "    </tr>\n",
       "    <tr>\n",
       "      <th>std</th>\n",
       "      <td>1.363033e+09</td>\n",
       "      <td>1.658128e+08</td>\n",
       "      <td>4.591292e+08</td>\n",
       "      <td>1.531512e+09</td>\n",
       "      <td>4.057082e+08</td>\n",
       "      <td>3.315555e+08</td>\n",
       "    </tr>\n",
       "    <tr>\n",
       "      <th>min</th>\n",
       "      <td>2.998332e+09</td>\n",
       "      <td>3.027490e+09</td>\n",
       "      <td>2.979881e+09</td>\n",
       "      <td>2.998332e+09</td>\n",
       "      <td>3.170203e+09</td>\n",
       "      <td>7.079052e+09</td>\n",
       "    </tr>\n",
       "    <tr>\n",
       "      <th>25%</th>\n",
       "      <td>5.544417e+09</td>\n",
       "      <td>3.219198e+09</td>\n",
       "      <td>3.452834e+09</td>\n",
       "      <td>5.951048e+09</td>\n",
       "      <td>3.502929e+09</td>\n",
       "      <td>7.479142e+09</td>\n",
       "    </tr>\n",
       "    <tr>\n",
       "      <th>50%</th>\n",
       "      <td>6.403468e+09</td>\n",
       "      <td>3.290168e+09</td>\n",
       "      <td>3.888840e+09</td>\n",
       "      <td>7.342545e+09</td>\n",
       "      <td>3.725059e+09</td>\n",
       "      <td>7.634815e+09</td>\n",
       "    </tr>\n",
       "    <tr>\n",
       "      <th>75%</th>\n",
       "      <td>7.511798e+09</td>\n",
       "      <td>3.383713e+09</td>\n",
       "      <td>4.268794e+09</td>\n",
       "      <td>8.405895e+09</td>\n",
       "      <td>4.138275e+09</td>\n",
       "      <td>7.806583e+09</td>\n",
       "    </tr>\n",
       "    <tr>\n",
       "      <th>max</th>\n",
       "      <td>1.077516e+10</td>\n",
       "      <td>3.739629e+09</td>\n",
       "      <td>4.695046e+09</td>\n",
       "      <td>1.077516e+10</td>\n",
       "      <td>4.597597e+09</td>\n",
       "      <td>8.753942e+09</td>\n",
       "    </tr>\n",
       "  </tbody>\n",
       "</table>\n",
       "</div>"
      ],
      "text/plain": [
       "       pagecount_desktop_views  pagecount_mobile_views  \\\n",
       "count             1.040000e+02            2.200000e+01   \n",
       "mean              6.573914e+09            3.296950e+09   \n",
       "std               1.363033e+09            1.658128e+08   \n",
       "min               2.998332e+09            3.027490e+09   \n",
       "25%               5.544417e+09            3.219198e+09   \n",
       "50%               6.403468e+09            3.290168e+09   \n",
       "75%               7.511798e+09            3.383713e+09   \n",
       "max               1.077516e+10            3.739629e+09   \n",
       "\n",
       "       pageview_desktop_views  pagecount_all_views  pageview_mobile_views  \\\n",
       "count            5.100000e+01         1.040000e+02           5.100000e+01   \n",
       "mean             3.851217e+09         7.271346e+09           3.813428e+09   \n",
       "std              4.591292e+08         1.531512e+09           4.057082e+08   \n",
       "min              2.979881e+09         2.998332e+09           3.170203e+09   \n",
       "25%              3.452834e+09         5.951048e+09           3.502929e+09   \n",
       "50%              3.888840e+09         7.342545e+09           3.725059e+09   \n",
       "75%              4.268794e+09         8.405895e+09           4.138275e+09   \n",
       "max              4.695046e+09         1.077516e+10           4.597597e+09   \n",
       "\n",
       "       pageview_all_views  \n",
       "count        5.100000e+01  \n",
       "mean         7.664646e+09  \n",
       "std          3.315555e+08  \n",
       "min          7.079052e+09  \n",
       "25%          7.479142e+09  \n",
       "50%          7.634815e+09  \n",
       "75%          7.806583e+09  \n",
       "max          8.753942e+09  "
      ]
     },
     "execution_count": 12,
     "metadata": {},
     "output_type": "execute_result"
    }
   ],
   "source": [
    "pc1.describe()"
   ]
  },
  {
   "cell_type": "code",
   "execution_count": null,
   "metadata": {},
   "outputs": [],
   "source": []
  }
 ],
 "metadata": {
  "kernelspec": {
   "display_name": "Python 2",
   "language": "python",
   "name": "python2"
  },
  "language_info": {
   "codemirror_mode": {
    "name": "ipython",
    "version": 2
   },
   "file_extension": ".py",
   "mimetype": "text/x-python",
   "name": "python",
   "nbconvert_exporter": "python",
   "pygments_lexer": "ipython2",
   "version": "2.7.15"
  }
 },
 "nbformat": 4,
 "nbformat_minor": 2
}
